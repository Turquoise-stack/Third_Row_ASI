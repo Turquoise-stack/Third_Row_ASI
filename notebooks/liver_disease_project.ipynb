{
 "cells": [
  {
   "cell_type": "markdown",
   "metadata": {
    "id": "VLEruTLj6gwq"
   },
   "source": [
    "1. Loading libraries and dataset"
   ]
  },
  {
   "cell_type": "code",
   "execution_count": null,
   "metadata": {},
   "outputs": [],
   "source": [
    "from asi_project.main import x as x_coef\n",
    "x_coef"
   ]
  },
  {
   "cell_type": "code",
   "execution_count": null,
   "metadata": {
    "id": "g2fML-WikZ-k"
   },
   "outputs": [],
   "source": [
    "# Manipulation and Visualasation\n",
    "import pandas as pd\n",
    "import numpy as np\n",
    "import matplotlib.pyplot as plt\n",
    "import seaborn as sns\n",
    "import plotly.express as px\n",
    "\n",
    "# Libraries for Machine Learning\n",
    "from sklearn.model_selection import train_test_split\n",
    "from sklearn.preprocessing import StandardScaler, LabelEncoder\n",
    "from sklearn.metrics import accuracy_score\n",
    "\n",
    "# Models\n",
    "from sklearn.ensemble import RandomForestClassifier\n",
    "from xgboost import XGBClassifier\n",
    "from lightgbm import LGBMClassifier\n",
    "\n",
    "import pickle"
   ]
  },
  {
   "cell_type": "code",
   "execution_count": null,
   "metadata": {
    "id": "GlnzbhyGkf5Y"
   },
   "outputs": [],
   "source": [
    "df = pd.read_csv('../data/liver_data.csv')"
   ]
  },
  {
   "cell_type": "markdown",
   "metadata": {
    "id": "wKIVxyj56wgG"
   },
   "source": [
    "2. Data analysis"
   ]
  },
  {
   "cell_type": "code",
   "execution_count": null,
   "metadata": {
    "colab": {
     "base_uri": "https://localhost:8080/",
     "height": 267
    },
    "id": "5yPK2eM9lECV",
    "outputId": "0a899d53-3cec-405d-b55a-7bbcbb568fe2"
   },
   "outputs": [],
   "source": [
    "df.head()"
   ]
  },
  {
   "cell_type": "code",
   "execution_count": null,
   "metadata": {
    "colab": {
     "base_uri": "https://localhost:8080/",
     "height": 472
    },
    "id": "KVWEY5C_DTLc",
    "outputId": "83da2b91-411e-4ea6-9c60-98b0b3e4a9f2"
   },
   "outputs": [],
   "source": [
    "from matplotlib import pyplot as plt\n",
    "df['AlcoholConsumption'].plot(kind='hist', bins=20, title='AlcoholConsumption')\n",
    "plt.gca().spines[['top', 'right',]].set_visible(False)"
   ]
  },
  {
   "cell_type": "code",
   "execution_count": null,
   "metadata": {
    "colab": {
     "base_uri": "https://localhost:8080/",
     "height": 472
    },
    "id": "WhYS1aRFDPmH",
    "outputId": "8ca87dd6-99be-42b9-9bd9-4f48d6ef6e81"
   },
   "outputs": [],
   "source": [
    "from matplotlib import pyplot as plt\n",
    "df['BMI'].plot(kind='hist', bins=20, title='BMI')\n",
    "plt.gca().spines[['top', 'right',]].set_visible(False)"
   ]
  },
  {
   "cell_type": "code",
   "execution_count": null,
   "metadata": {
    "colab": {
     "base_uri": "https://localhost:8080/",
     "height": 472
    },
    "id": "_HK2UEAyDGjh",
    "outputId": "9446be09-84bb-403b-fb76-2f29ded3104f"
   },
   "outputs": [],
   "source": [
    "from matplotlib import pyplot as plt\n",
    "df['Age'].plot(kind='hist', bins=20, title='Age')\n",
    "plt.gca().spines[['top', 'right',]].set_visible(False)"
   ]
  },
  {
   "cell_type": "code",
   "execution_count": null,
   "metadata": {
    "colab": {
     "base_uri": "https://localhost:8080/"
    },
    "id": "OtYYnM1MlG0y",
    "outputId": "b70cd2e8-b2d1-4815-cd05-2c92e502ea95"
   },
   "outputs": [],
   "source": [
    "df.info()"
   ]
  },
  {
   "cell_type": "code",
   "execution_count": null,
   "metadata": {
    "colab": {
     "base_uri": "https://localhost:8080/"
    },
    "id": "cjlCj5wylL95",
    "outputId": "31b1dc7f-9d20-419a-ab8b-a64bfcf35420"
   },
   "outputs": [],
   "source": [
    "df.isnull().sum()"
   ]
  },
  {
   "cell_type": "code",
   "execution_count": null,
   "metadata": {
    "colab": {
     "base_uri": "https://localhost:8080/",
     "height": 375
    },
    "id": "pfJdCyzA2UVm",
    "outputId": "e746ea25-744b-4101-cb0e-5e29afef7010"
   },
   "outputs": [],
   "source": [
    "numeric_cols = ['BMI', 'AlcoholConsumption', 'PhysicalActivity', 'LiverFunctionTest']\n",
    "\n",
    "plt.figure(figsize=(12, 6))\n",
    "\n",
    "for i, column in enumerate(numeric_cols, 1):\n",
    "    plt.subplot(len(numeric_cols), len(numeric_cols)//2, i)\n",
    "    sns.boxplot(x=df[column])\n",
    "\n",
    "plt.suptitle('Boxplots for numerical variables')\n",
    "plt.tight_layout()\n",
    "plt.show()"
   ]
  },
  {
   "cell_type": "code",
   "execution_count": null,
   "metadata": {
    "colab": {
     "base_uri": "https://localhost:8080/",
     "height": 1000
    },
    "id": "kfSwIRTd5Bgu",
    "outputId": "ba441082-7ae5-4061-ecee-bbd4e85cd6a1"
   },
   "outputs": [],
   "source": [
    "sns.pairplot(df[['BMI', 'AlcoholConsumption', 'PhysicalActivity', 'LiverFunctionTest', 'Diagnosis']], hue = 'Diagnosis')\n",
    "plt.show()"
   ]
  },
  {
   "cell_type": "code",
   "execution_count": null,
   "metadata": {
    "colab": {
     "base_uri": "https://localhost:8080/",
     "height": 1000
    },
    "id": "RUKvEoBzlaBx",
    "outputId": "8f442ef0-626f-4ada-b0d6-f48c73104f89"
   },
   "outputs": [],
   "source": [
    "# Calculate the correlation matrix\n",
    "corr = df.corr()\n",
    "plt = plt.figure(figsize=(10, 10))\n",
    "\n",
    "sns.heatmap(corr, annot=True, cmap=\"coolwarm\")"
   ]
  },
  {
   "cell_type": "code",
   "execution_count": null,
   "metadata": {
    "id": "04gs4CPWlfwz"
   },
   "outputs": [],
   "source": [
    "X = df.drop(\"Diagnosis\", axis=1)\n",
    "y = df[\"Diagnosis\"]"
   ]
  },
  {
   "cell_type": "code",
   "execution_count": null,
   "metadata": {
    "id": "tDeiRo61lhzn"
   },
   "outputs": [],
   "source": [
    "X_train, X_test, y_train, y_test = train_test_split(X, y, test_size=0.2, random_state=42)"
   ]
  },
  {
   "cell_type": "code",
   "execution_count": null,
   "metadata": {
    "id": "wXws0xQrljeM"
   },
   "outputs": [],
   "source": [
    "# Scale the features\n",
    "scaler = StandardScaler()\n",
    "X_train_scaled = scaler.fit_transform(X_train)\n",
    "X_test_scaled = scaler.transform(X_test)"
   ]
  },
  {
   "cell_type": "code",
   "execution_count": null,
   "metadata": {
    "colab": {
     "base_uri": "https://localhost:8080/"
    },
    "id": "yQPApc5Bx5L4",
    "outputId": "4db4d55c-597b-42b8-9feb-29d91635a954"
   },
   "outputs": [],
   "source": [
    "# Define and train the Random Forest model\n",
    "rf_model = RandomForestClassifier(n_estimators=100, random_state=42)\n",
    "rf_model.fit(X_train_scaled, y_train)\n",
    "\n",
    "# Evaluate the Random Forest model\n",
    "y_pred_rf = rf_model.predict(X_test_scaled)\n",
    "rf_accuracy = accuracy_score(y_test, y_pred_rf)\n",
    "print(f\"Random Forest Accuracy: {rf_accuracy:.2f}\")"
   ]
  },
  {
   "cell_type": "code",
   "execution_count": null,
   "metadata": {
    "colab": {
     "base_uri": "https://localhost:8080/"
    },
    "id": "pKqygAPPyMVq",
    "outputId": "909248ef-4d96-46b7-d6d7-0d461ccc255f"
   },
   "outputs": [],
   "source": [
    "# Define and train the XGBoost model\n",
    "xgboost_model = XGBClassifier(n_estimators=100, random_state=42)\n",
    "xgboost_model.fit(X_train_scaled, y_train)\n",
    "\n",
    "# Evaluate the XGBoost model\n",
    "y_pred_xgboost = xgboost_model.predict(X_test_scaled)\n",
    "xgboost_accuracy = accuracy_score(y_test, y_pred_xgboost)\n",
    "print(f\"XGBoost Accuracy: {xgboost_accuracy:.2f}\")"
   ]
  },
  {
   "cell_type": "code",
   "execution_count": null,
   "metadata": {
    "colab": {
     "base_uri": "https://localhost:8080/"
    },
    "id": "tYtahg5Yz1RT",
    "outputId": "047c9cc9-5c23-4637-f504-cc5eebb20098"
   },
   "outputs": [],
   "source": [
    "# Define and train the LightGBM model\n",
    "lgbm_model = LGBMClassifier(n_estimators=100, random_state=42)\n",
    "lgbm_model.fit(X_train_scaled, y_train)\n",
    "\n",
    "# Evaluate the LightGBM model\n",
    "y_pred_lgbm = lgbm_model.predict(X_test_scaled)\n",
    "lgbm_accuracy = accuracy_score(y_test, y_pred_lgbm)\n",
    "print(f\"LightGBM Accuracy: {lgbm_accuracy:.2f}\")"
   ]
  },
  {
   "cell_type": "code",
   "execution_count": null,
   "metadata": {
    "id": "oSaiF9-QvEy0"
   },
   "outputs": [],
   "source": [
    "# Save the best model\n",
    "with open('../models/rf_model.pkl', 'wb') as f:\n",
    "     pickle.dump(rf_model, f)"
   ]
  },
  {
   "cell_type": "code",
   "execution_count": null,
   "metadata": {},
   "outputs": [],
   "source": [
    "# Save XGBoost model\n",
    "with open('../models/xgboost_model.pkl', 'wb') as f:\n",
    "     pickle.dump(xgboost_model, f)"
   ]
  },
  {
   "cell_type": "code",
   "execution_count": null,
   "metadata": {},
   "outputs": [],
   "source": [
    "# Save LightGBM model\n",
    "with open('../models/lgbm_model.pkl', 'wb') as f:\n",
    "     pickle.dump(lgbm_model, f)"
   ]
  },
  {
   "cell_type": "code",
   "execution_count": null,
   "metadata": {
    "id": "Zyz5V8FbwAzO"
   },
   "outputs": [],
   "source": [
    "# with open('scaler.pkl', 'wb') as f:\n",
    "#     pickle.dump(scaler, f)"
   ]
  }
 ],
 "metadata": {
  "accelerator": "GPU",
  "colab": {
   "gpuType": "T4",
   "provenance": []
  },
  "kernelspec": {
   "display_name": "Python 3 (ipykernel)",
   "language": "python",
   "name": "python3"
  },
  "language_info": {
   "codemirror_mode": {
    "name": "ipython",
    "version": 3
   },
   "file_extension": ".py",
   "mimetype": "text/x-python",
   "name": "python",
   "nbconvert_exporter": "python",
   "pygments_lexer": "ipython3",
   "version": "3.12.3"
  }
 },
 "nbformat": 4,
 "nbformat_minor": 4
}
