{
 "cells": [
  {
   "cell_type": "code",
   "execution_count": null,
   "id": "15ba6b51-09d5-4f27-ba23-28b7e09c3465",
   "metadata": {},
   "outputs": [],
   "source": [
    "# Sprint 3 - pycaret. Optuna located in the main project notebook (liver_disease_project)\n",
    "# from pycaret.datasets import get_data\n",
    "import pandas as pd\n",
    "from pycaret.classification import setup"
   ]
  },
  {
   "cell_type": "code",
   "execution_count": null,
   "id": "f63debe7-776c-4b83-a25d-8a80dc846265",
   "metadata": {},
   "outputs": [],
   "source": [
    "df_pycaret = pd.read_csv('../data/liver_data.csv')"
   ]
  },
  {
   "cell_type": "code",
   "execution_count": null,
   "id": "0ddd5e84-94e4-46b1-bef4-3c2203b687be",
   "metadata": {},
   "outputs": [],
   "source": [
    "model_setup = setup(df_pycaret, target=\"Diagnosis\", session_id=111)"
   ]
  },
  {
   "cell_type": "code",
   "execution_count": null,
   "id": "5aa0e781-5209-4b2d-9f27-b3e159e32c44",
   "metadata": {},
   "outputs": [],
   "source": [
    "best_model = model_setup.compare_models(turbo=True)"
   ]
  },
  {
   "cell_type": "code",
   "execution_count": null,
   "id": "6dfa7bfc-f6f6-4902-a5ef-593b263b669a",
   "metadata": {},
   "outputs": [],
   "source": [
    "best_model"
   ]
  },
  {
   "cell_type": "code",
   "execution_count": null,
   "id": "0cea1fe1-9ee2-46e9-a1a7-ed8ce675bcb7",
   "metadata": {},
   "outputs": [],
   "source": [
    "gbc_model = model_setup.create_model(\"gbc\")"
   ]
  },
  {
   "cell_type": "code",
   "execution_count": null,
   "id": "002492a7-8be0-459b-95ed-e4414d5ce79e",
   "metadata": {},
   "outputs": [],
   "source": [
    "type(gbc_model)"
   ]
  },
  {
   "cell_type": "code",
   "execution_count": null,
   "id": "d8867c17-5465-420b-bd2a-c15012ddc5a6",
   "metadata": {},
   "outputs": [],
   "source": [
    "model_setup.plot_model(best_model, plot=\"auc\")"
   ]
  },
  {
   "cell_type": "code",
   "execution_count": null,
   "id": "69a5e2c7-d99b-4f2a-b604-25c09525713b",
   "metadata": {},
   "outputs": [],
   "source": [
    "model_setup.plot_model(best_model, plot = 'confusion_matrix')"
   ]
  },
  {
   "cell_type": "code",
   "execution_count": null,
   "id": "ce58d168-13e6-4dac-9838-8a6453c3aa1b",
   "metadata": {},
   "outputs": [],
   "source": [
    "output_df = model_setup.predict_model(best_model, data=df_pycaret)"
   ]
  },
  {
   "cell_type": "code",
   "execution_count": null,
   "id": "1ca12bb4-2ef8-4f4b-8344-74b5d108f1eb",
   "metadata": {},
   "outputs": [],
   "source": [
    "output_df = model_setup.predict_model(gbc_model, data=df_pycaret)"
   ]
  },
  {
   "cell_type": "code",
   "execution_count": null,
   "id": "81a116ee-8e30-4aaa-a925-70e1ef73895d",
   "metadata": {},
   "outputs": [],
   "source": [
    "scoring = model_setup.pull()"
   ]
  },
  {
   "cell_type": "code",
   "execution_count": null,
   "id": "bd81ecb9-ad55-4f4d-9a5a-10e0e8fadd14",
   "metadata": {},
   "outputs": [],
   "source": [
    "saved_model, model_path = model_setup.save_model(gbc_model, \"../models/best_pycaret_model\")"
   ]
  },
  {
   "cell_type": "code",
   "execution_count": null,
   "id": "10556518-1703-4c0c-9ec1-ef8f27477ccb",
   "metadata": {},
   "outputs": [],
   "source": [
    "model_path"
   ]
  },
  {
   "cell_type": "code",
   "execution_count": null,
   "id": "090bd336-ee10-4ee2-8f58-7190ac5b0034",
   "metadata": {},
   "outputs": [],
   "source": [
    "loaded_model = model_setup.load_model(\"../models/best_pycaret_model\")"
   ]
  },
  {
   "cell_type": "code",
   "execution_count": null,
   "id": "06469ce8-c54c-4029-a730-de98306f2477",
   "metadata": {},
   "outputs": [],
   "source": [
    "loaded_model"
   ]
  },
  {
   "cell_type": "code",
   "execution_count": null,
   "id": "0d76bf1c-3ab2-4a26-bc07-6961f7c64f35",
   "metadata": {},
   "outputs": [],
   "source": []
  }
 ],
 "metadata": {
  "kernelspec": {
   "display_name": "Python 3 (ipykernel)",
   "language": "python",
   "name": "python3"
  },
  "language_info": {
   "codemirror_mode": {
    "name": "ipython",
    "version": 3
   },
   "file_extension": ".py",
   "mimetype": "text/x-python",
   "name": "python",
   "nbconvert_exporter": "python",
   "pygments_lexer": "ipython3",
   "version": "3.10.16"
  }
 },
 "nbformat": 4,
 "nbformat_minor": 5
}
